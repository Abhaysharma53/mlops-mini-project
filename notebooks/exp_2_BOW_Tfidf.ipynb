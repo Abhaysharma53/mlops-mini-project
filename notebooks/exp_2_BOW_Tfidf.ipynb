{
 "cells": [
  {
   "cell_type": "code",
   "execution_count": 1,
   "metadata": {},
   "outputs": [],
   "source": [
    "import mlflow\n",
    "import mlflow.sklearn\n",
    "from sklearn.feature_extraction.text import CountVectorizer, TfidfVectorizer\n",
    "from sklearn.model_selection import train_test_split\n",
    "from sklearn.linear_model import LogisticRegression\n",
    "from sklearn.naive_bayes import MultinomialNB\n",
    "from sklearn.ensemble import RandomForestClassifier, GradientBoostingClassifier\n",
    "from xgboost import XGBClassifier\n",
    "from sklearn.metrics import accuracy_score, precision_score, recall_score, f1_score\n",
    "import pandas as pd\n",
    "import re\n",
    "import string\n",
    "from nltk.corpus import stopwords\n",
    "from nltk.stem import WordNetLemmatizer\n",
    "import numpy as np\n",
    "import os\n",
    "\n",
    "import dagshub"
   ]
  },
  {
   "cell_type": "code",
   "execution_count": 2,
   "metadata": {},
   "outputs": [
    {
     "data": {
      "text/html": [
       "<pre style=\"white-space:pre;overflow-x:auto;line-height:normal;font-family:Menlo,'DejaVu Sans Mono',consolas,'Courier New',monospace\">                                       <span style=\"font-weight: bold\">❗❗❗ AUTHORIZATION REQUIRED ❗❗❗</span>                                        \n",
       "</pre>\n"
      ],
      "text/plain": [
       "                                       \u001b[1m❗❗❗ AUTHORIZATION REQUIRED ❗❗❗\u001b[0m                                        \n"
      ]
     },
     "metadata": {},
     "output_type": "display_data"
    },
    {
     "data": {
      "text/html": [
       "<pre style=\"white-space:pre;overflow-x:auto;line-height:normal;font-family:Menlo,'DejaVu Sans Mono',consolas,'Courier New',monospace\">c:\\Users\\admin\\Desktop\\DSMP\\mlops-mini-project\\my-mlops-env\\lib\\site-packages\\rich\\live.py:229: UserWarning: \n",
       "install \"ipywidgets\" for Jupyter support\n",
       "  warnings.warn('install \"ipywidgets\" for Jupyter support')\n",
       "</pre>\n"
      ],
      "text/plain": [
       "c:\\Users\\admin\\Desktop\\DSMP\\mlops-mini-project\\my-mlops-env\\lib\\site-packages\\rich\\live.py:229: UserWarning: \n",
       "install \"ipywidgets\" for Jupyter support\n",
       "  warnings.warn('install \"ipywidgets\" for Jupyter support')\n"
      ]
     },
     "metadata": {},
     "output_type": "display_data"
    },
    {
     "name": "stdout",
     "output_type": "stream",
     "text": [
      "\n",
      "\n",
      "Open the following link in your browser to authorize the client:\n",
      "https://dagshub.com/login/oauth/authorize?state=034799c6-c4bf-4e26-b6d6-9f293674aefb&client_id=32b60ba385aa7cecf24046d8195a71c07dd345d9657977863b52e7748e0f0f28&middleman_request_id=419b58d1f9e425399d28dc37798f85e06a41b266bbb89d5d4a59af45d1d21cf6\n",
      "\n",
      "\n"
     ]
    },
    {
     "data": {
      "text/html": [
       "<pre style=\"white-space:pre;overflow-x:auto;line-height:normal;font-family:Menlo,'DejaVu Sans Mono',consolas,'Courier New',monospace\"></pre>\n"
      ],
      "text/plain": []
     },
     "metadata": {},
     "output_type": "display_data"
    },
    {
     "data": {
      "text/html": [
       "<pre style=\"white-space:pre;overflow-x:auto;line-height:normal;font-family:Menlo,'DejaVu Sans Mono',consolas,'Courier New',monospace\">Accessing as Abhaysharma53\n",
       "</pre>\n"
      ],
      "text/plain": [
       "Accessing as Abhaysharma53\n"
      ]
     },
     "metadata": {},
     "output_type": "display_data"
    },
    {
     "data": {
      "text/html": [
       "<pre style=\"white-space:pre;overflow-x:auto;line-height:normal;font-family:Menlo,'DejaVu Sans Mono',consolas,'Courier New',monospace\">Initialized MLflow to track repo <span style=\"color: #008000; text-decoration-color: #008000\">\"Abhaysharma53/mlops-mini-project\"</span>\n",
       "</pre>\n"
      ],
      "text/plain": [
       "Initialized MLflow to track repo \u001b[32m\"Abhaysharma53/mlops-mini-project\"\u001b[0m\n"
      ]
     },
     "metadata": {},
     "output_type": "display_data"
    },
    {
     "data": {
      "text/html": [
       "<pre style=\"white-space:pre;overflow-x:auto;line-height:normal;font-family:Menlo,'DejaVu Sans Mono',consolas,'Courier New',monospace\">Repository Abhaysharma53/mlops-mini-project initialized!\n",
       "</pre>\n"
      ],
      "text/plain": [
       "Repository Abhaysharma53/mlops-mini-project initialized!\n"
      ]
     },
     "metadata": {},
     "output_type": "display_data"
    }
   ],
   "source": [
    "mlflow.set_tracking_uri('https://dagshub.com/Abhaysharma53/mlops-mini-project.mlflow')\n",
    "dagshub.init(repo_owner='Abhaysharma53', repo_name='mlops-mini-project', mlflow=True)"
   ]
  },
  {
   "cell_type": "code",
   "execution_count": 13,
   "metadata": {},
   "outputs": [
    {
     "data": {
      "text/html": [
       "<div>\n",
       "<style scoped>\n",
       "    .dataframe tbody tr th:only-of-type {\n",
       "        vertical-align: middle;\n",
       "    }\n",
       "\n",
       "    .dataframe tbody tr th {\n",
       "        vertical-align: top;\n",
       "    }\n",
       "\n",
       "    .dataframe thead th {\n",
       "        text-align: right;\n",
       "    }\n",
       "</style>\n",
       "<table border=\"1\" class=\"dataframe\">\n",
       "  <thead>\n",
       "    <tr style=\"text-align: right;\">\n",
       "      <th></th>\n",
       "      <th>sentiment</th>\n",
       "      <th>content</th>\n",
       "    </tr>\n",
       "  </thead>\n",
       "  <tbody>\n",
       "    <tr>\n",
       "      <th>0</th>\n",
       "      <td>empty</td>\n",
       "      <td>@tiffanylue i know  i was listenin to bad habi...</td>\n",
       "    </tr>\n",
       "    <tr>\n",
       "      <th>1</th>\n",
       "      <td>sadness</td>\n",
       "      <td>Layin n bed with a headache  ughhhh...waitin o...</td>\n",
       "    </tr>\n",
       "    <tr>\n",
       "      <th>2</th>\n",
       "      <td>sadness</td>\n",
       "      <td>Funeral ceremony...gloomy friday...</td>\n",
       "    </tr>\n",
       "    <tr>\n",
       "      <th>3</th>\n",
       "      <td>enthusiasm</td>\n",
       "      <td>wants to hang out with friends SOON!</td>\n",
       "    </tr>\n",
       "    <tr>\n",
       "      <th>4</th>\n",
       "      <td>neutral</td>\n",
       "      <td>@dannycastillo We want to trade with someone w...</td>\n",
       "    </tr>\n",
       "  </tbody>\n",
       "</table>\n",
       "</div>"
      ],
      "text/plain": [
       "    sentiment                                            content\n",
       "0       empty  @tiffanylue i know  i was listenin to bad habi...\n",
       "1     sadness  Layin n bed with a headache  ughhhh...waitin o...\n",
       "2     sadness                Funeral ceremony...gloomy friday...\n",
       "3  enthusiasm               wants to hang out with friends SOON!\n",
       "4     neutral  @dannycastillo We want to trade with someone w..."
      ]
     },
     "execution_count": 13,
     "metadata": {},
     "output_type": "execute_result"
    }
   ],
   "source": [
    "# Load the data\n",
    "df = pd.read_csv('https://raw.githubusercontent.com/campusx-official/jupyter-masterclass/main/tweet_emotions.csv').drop(columns=['tweet_id'])\n",
    "df.head()\n"
   ]
  },
  {
   "cell_type": "code",
   "execution_count": 14,
   "metadata": {},
   "outputs": [],
   "source": [
    "def lemmatization(text):\n",
    "    lemmatizer = WordNetLemmatizer()\n",
    "    text = text.split()\n",
    "    text = [lemmatizer.lemmatize(word) for word in text]\n",
    "    return \" \".join(text)"
   ]
  },
  {
   "cell_type": "code",
   "execution_count": 15,
   "metadata": {},
   "outputs": [],
   "source": [
    "def remove_stop_words(text):\n",
    "    stop_words = set(stopwords.words('english'))\n",
    "    text = [word for word in str(text).split() if word not in stop_words ]\n",
    "    return \" \".join(text)\n",
    "    "
   ]
  },
  {
   "cell_type": "code",
   "execution_count": 16,
   "metadata": {},
   "outputs": [],
   "source": [
    "def removing_numbers(text):\n",
    "    text = ''.join([char for char in text if not char.isdigit()])\n",
    "    return text"
   ]
  },
  {
   "cell_type": "code",
   "execution_count": 17,
   "metadata": {},
   "outputs": [],
   "source": [
    "def lower_case(text):\n",
    "    text = text.split()\n",
    "    text = [word.lower() for word in text]\n",
    "    return \" \".join(text)"
   ]
  },
  {
   "cell_type": "code",
   "execution_count": 18,
   "metadata": {},
   "outputs": [],
   "source": [
    "def removing_punctuations(text):\n",
    "    \"\"\"Remove punctuations from the text.\"\"\"\n",
    "    text = re.sub('[%s]' % re.escape(string.punctuation), ' ', text)\n",
    "    text = text.replace('؛', \"\")\n",
    "    text = re.sub('\\s+', ' ', text).strip()\n",
    "    return text\n",
    "\n",
    "def removing_urls(text):\n",
    "    \"\"\"Remove URLs from the text.\"\"\"\n",
    "    url_pattern = re.compile(r'https?://\\S+|www\\.\\S+')\n",
    "    return url_pattern.sub(r'', text)"
   ]
  },
  {
   "cell_type": "code",
   "execution_count": 19,
   "metadata": {},
   "outputs": [],
   "source": [
    "def normalize_text(df):\n",
    "    \"\"\"Normalize the text data.\"\"\"\n",
    "    try:\n",
    "        df['content'] = df['content'].apply(lower_case)\n",
    "        df['content'] = df['content'].apply(remove_stop_words)\n",
    "        df['content'] = df['content'].apply(removing_numbers)\n",
    "        df['content'] = df['content'].apply(removing_punctuations)\n",
    "        df['content'] = df['content'].apply(removing_urls)\n",
    "        df['content'] = df['content'].apply(lemmatization)\n",
    "        return df\n",
    "    except Exception as e:\n",
    "        print(f'Error during text normalization: {e}')\n",
    "        raise"
   ]
  },
  {
   "cell_type": "code",
   "execution_count": 20,
   "metadata": {},
   "outputs": [],
   "source": [
    "#normalize the text data\n",
    "df = normalize_text(df)"
   ]
  },
  {
   "cell_type": "code",
   "execution_count": 21,
   "metadata": {},
   "outputs": [
    {
     "data": {
      "text/html": [
       "<div>\n",
       "<style scoped>\n",
       "    .dataframe tbody tr th:only-of-type {\n",
       "        vertical-align: middle;\n",
       "    }\n",
       "\n",
       "    .dataframe tbody tr th {\n",
       "        vertical-align: top;\n",
       "    }\n",
       "\n",
       "    .dataframe thead th {\n",
       "        text-align: right;\n",
       "    }\n",
       "</style>\n",
       "<table border=\"1\" class=\"dataframe\">\n",
       "  <thead>\n",
       "    <tr style=\"text-align: right;\">\n",
       "      <th></th>\n",
       "      <th>sentiment</th>\n",
       "      <th>content</th>\n",
       "    </tr>\n",
       "  </thead>\n",
       "  <tbody>\n",
       "    <tr>\n",
       "      <th>0</th>\n",
       "      <td>empty</td>\n",
       "      <td>tiffanylue know listenin bad habit earlier sta...</td>\n",
       "    </tr>\n",
       "    <tr>\n",
       "      <th>1</th>\n",
       "      <td>sadness</td>\n",
       "      <td>layin n bed headache ughhhh waitin call</td>\n",
       "    </tr>\n",
       "    <tr>\n",
       "      <th>2</th>\n",
       "      <td>sadness</td>\n",
       "      <td>funeral ceremony gloomy friday</td>\n",
       "    </tr>\n",
       "    <tr>\n",
       "      <th>3</th>\n",
       "      <td>enthusiasm</td>\n",
       "      <td>want hang friend soon</td>\n",
       "    </tr>\n",
       "    <tr>\n",
       "      <th>4</th>\n",
       "      <td>neutral</td>\n",
       "      <td>dannycastillo want trade someone houston ticke...</td>\n",
       "    </tr>\n",
       "  </tbody>\n",
       "</table>\n",
       "</div>"
      ],
      "text/plain": [
       "    sentiment                                            content\n",
       "0       empty  tiffanylue know listenin bad habit earlier sta...\n",
       "1     sadness            layin n bed headache ughhhh waitin call\n",
       "2     sadness                     funeral ceremony gloomy friday\n",
       "3  enthusiasm                              want hang friend soon\n",
       "4     neutral  dannycastillo want trade someone houston ticke..."
      ]
     },
     "execution_count": 21,
     "metadata": {},
     "output_type": "execute_result"
    }
   ],
   "source": [
    "df.head()"
   ]
  },
  {
   "cell_type": "code",
   "execution_count": 22,
   "metadata": {},
   "outputs": [],
   "source": [
    "x = df['sentiment'].isin(['happiness','sadness'])\n",
    "df = df[x]"
   ]
  },
  {
   "cell_type": "code",
   "execution_count": 23,
   "metadata": {},
   "outputs": [],
   "source": [
    "df['sentiment'] = df['sentiment'].replace({'sadness':0, 'happiness':1})"
   ]
  },
  {
   "cell_type": "code",
   "execution_count": 24,
   "metadata": {},
   "outputs": [
    {
     "name": "stderr",
     "output_type": "stream",
     "text": [
      "2024/10/14 00:57:09 INFO mlflow.tracking.fluent: Experiment with name 'Bow vs TfIdf' does not exist. Creating a new experiment.\n"
     ]
    },
    {
     "data": {
      "text/plain": [
       "<Experiment: artifact_location='mlflow-artifacts:/1b8d5d4377b148df9e1788f82f1c35c9', creation_time=1728847628737, experiment_id='2', last_update_time=1728847628737, lifecycle_stage='active', name='Bow vs TfIdf', tags={}>"
      ]
     },
     "execution_count": 24,
     "metadata": {},
     "output_type": "execute_result"
    }
   ],
   "source": [
    "# Set the experiment name\n",
    "mlflow.set_experiment(\"Bow vs TfIdf\")"
   ]
  },
  {
   "cell_type": "code",
   "execution_count": 25,
   "metadata": {},
   "outputs": [],
   "source": [
    "# Define feature extraction methods\n",
    "vectorizers = {\n",
    "    'BoW': CountVectorizer(),\n",
    "    'TF-IDF': TfidfVectorizer()\n",
    "}\n",
    "\n",
    "# Define algorithms\n",
    "algorithms = {\n",
    "    'LogisticRegression': LogisticRegression(),\n",
    "    'MultinomialNB': MultinomialNB(),\n",
    "    'XGBoost': XGBClassifier(),\n",
    "    'RandomForest': RandomForestClassifier(),\n",
    "    'GradientBoosting': GradientBoostingClassifier()\n",
    "}"
   ]
  },
  {
   "cell_type": "code",
   "execution_count": 28,
   "metadata": {},
   "outputs": [
    {
     "name": "stderr",
     "output_type": "stream",
     "text": [
      "2024/10/14 01:25:03 WARNING mlflow.models.model: Model logged without a signature and input example. Please set `input_example` parameter when logging the model to auto infer the model signature.\n"
     ]
    },
    {
     "name": "stdout",
     "output_type": "stream",
     "text": [
      "Algorithm: LogisticRegression, Feature Engineering: BoW\n",
      "Accuracy: 0.7932530120481928\n",
      "Precision: 0.7833655705996132\n",
      "Recall: 0.7980295566502463\n",
      "F1 Score: 0.7906295754026355\n"
     ]
    },
    {
     "name": "stderr",
     "output_type": "stream",
     "text": [
      "2024/10/14 01:25:25 INFO mlflow.tracking._tracking_service.client: 🏃 View run LogisticRegression with BoW at: https://dagshub.com/Abhaysharma53/mlops-mini-project.mlflow/#/experiments/2/runs/1115a691dedd4dd3a207f966b97a11d4.\n",
      "2024/10/14 01:25:25 INFO mlflow.tracking._tracking_service.client: 🧪 View experiment at: https://dagshub.com/Abhaysharma53/mlops-mini-project.mlflow/#/experiments/2.\n",
      "2024/10/14 01:25:39 WARNING mlflow.models.model: Model logged without a signature and input example. Please set `input_example` parameter when logging the model to auto infer the model signature.\n"
     ]
    },
    {
     "name": "stdout",
     "output_type": "stream",
     "text": [
      "Algorithm: LogisticRegression, Feature Engineering: TF-IDF\n",
      "Accuracy: 0.7942168674698795\n",
      "Precision: 0.7784090909090909\n",
      "Recall: 0.8098522167487685\n",
      "F1 Score: 0.7938194109126028\n"
     ]
    },
    {
     "name": "stderr",
     "output_type": "stream",
     "text": [
      "2024/10/14 01:26:03 INFO mlflow.tracking._tracking_service.client: 🏃 View run LogisticRegression with TF-IDF at: https://dagshub.com/Abhaysharma53/mlops-mini-project.mlflow/#/experiments/2/runs/87459d0133e44bb9a49a164b02cfef81.\n",
      "2024/10/14 01:26:03 INFO mlflow.tracking._tracking_service.client: 🧪 View experiment at: https://dagshub.com/Abhaysharma53/mlops-mini-project.mlflow/#/experiments/2.\n",
      "2024/10/14 01:26:14 WARNING mlflow.models.model: Model logged without a signature and input example. Please set `input_example` parameter when logging the model to auto infer the model signature.\n"
     ]
    },
    {
     "name": "stdout",
     "output_type": "stream",
     "text": [
      "Algorithm: MultinomialNB, Feature Engineering: BoW\n",
      "Accuracy: 0.7836144578313253\n",
      "Precision: 0.7801980198019802\n",
      "Recall: 0.7763546798029557\n",
      "F1 Score: 0.7782716049382716\n"
     ]
    },
    {
     "name": "stderr",
     "output_type": "stream",
     "text": [
      "2024/10/14 01:26:38 INFO mlflow.tracking._tracking_service.client: 🏃 View run MultinomialNB with BoW at: https://dagshub.com/Abhaysharma53/mlops-mini-project.mlflow/#/experiments/2/runs/d08da02abf3d440ea557467770138b1d.\n",
      "2024/10/14 01:26:38 INFO mlflow.tracking._tracking_service.client: 🧪 View experiment at: https://dagshub.com/Abhaysharma53/mlops-mini-project.mlflow/#/experiments/2.\n",
      "2024/10/14 01:26:50 WARNING mlflow.models.model: Model logged without a signature and input example. Please set `input_example` parameter when logging the model to auto infer the model signature.\n"
     ]
    },
    {
     "name": "stdout",
     "output_type": "stream",
     "text": [
      "Algorithm: MultinomialNB, Feature Engineering: TF-IDF\n",
      "Accuracy: 0.7831325301204819\n",
      "Precision: 0.7745383867832848\n",
      "Recall: 0.7852216748768472\n",
      "F1 Score: 0.7798434442270059\n"
     ]
    },
    {
     "name": "stderr",
     "output_type": "stream",
     "text": [
      "2024/10/14 01:27:05 INFO mlflow.tracking._tracking_service.client: 🏃 View run MultinomialNB with TF-IDF at: https://dagshub.com/Abhaysharma53/mlops-mini-project.mlflow/#/experiments/2/runs/59ad852de1714b2cb8524e2ae5e8f57c.\n",
      "2024/10/14 01:27:05 INFO mlflow.tracking._tracking_service.client: 🧪 View experiment at: https://dagshub.com/Abhaysharma53/mlops-mini-project.mlflow/#/experiments/2.\n",
      "2024/10/14 01:27:19 WARNING mlflow.models.model: Model logged without a signature and input example. Please set `input_example` parameter when logging the model to auto infer the model signature.\n"
     ]
    },
    {
     "name": "stdout",
     "output_type": "stream",
     "text": [
      "Algorithm: XGBoost, Feature Engineering: BoW\n",
      "Accuracy: 0.7739759036144578\n",
      "Precision: 0.7954545454545454\n",
      "Recall: 0.7241379310344828\n",
      "F1 Score: 0.7581227436823105\n"
     ]
    },
    {
     "name": "stderr",
     "output_type": "stream",
     "text": [
      "2024/10/14 01:27:38 INFO mlflow.tracking._tracking_service.client: 🏃 View run XGBoost with BoW at: https://dagshub.com/Abhaysharma53/mlops-mini-project.mlflow/#/experiments/2/runs/0321374ee8b74d50bebdc49d272cbabb.\n",
      "2024/10/14 01:27:38 INFO mlflow.tracking._tracking_service.client: 🧪 View experiment at: https://dagshub.com/Abhaysharma53/mlops-mini-project.mlflow/#/experiments/2.\n",
      "2024/10/14 01:27:52 WARNING mlflow.models.model: Model logged without a signature and input example. Please set `input_example` parameter when logging the model to auto infer the model signature.\n"
     ]
    },
    {
     "name": "stdout",
     "output_type": "stream",
     "text": [
      "Algorithm: XGBoost, Feature Engineering: TF-IDF\n",
      "Accuracy: 0.7614457831325301\n",
      "Precision: 0.7192242833052277\n",
      "Recall: 0.8403940886699507\n",
      "F1 Score: 0.7751022262607905\n"
     ]
    },
    {
     "name": "stderr",
     "output_type": "stream",
     "text": [
      "2024/10/14 01:28:10 INFO mlflow.tracking._tracking_service.client: 🏃 View run XGBoost with TF-IDF at: https://dagshub.com/Abhaysharma53/mlops-mini-project.mlflow/#/experiments/2/runs/cedd649df67047e186002fdd7badb091.\n",
      "2024/10/14 01:28:10 INFO mlflow.tracking._tracking_service.client: 🧪 View experiment at: https://dagshub.com/Abhaysharma53/mlops-mini-project.mlflow/#/experiments/2.\n",
      "2024/10/14 01:30:18 WARNING mlflow.models.model: Model logged without a signature and input example. Please set `input_example` parameter when logging the model to auto infer the model signature.\n"
     ]
    },
    {
     "name": "stdout",
     "output_type": "stream",
     "text": [
      "Algorithm: RandomForest, Feature Engineering: BoW\n",
      "Accuracy: 0.771566265060241\n",
      "Precision: 0.7862433862433862\n",
      "Recall: 0.7320197044334975\n",
      "F1 Score: 0.7581632653061224\n"
     ]
    },
    {
     "name": "stderr",
     "output_type": "stream",
     "text": [
      "2024/10/14 01:31:10 INFO mlflow.tracking._tracking_service.client: 🏃 View run RandomForest with BoW at: https://dagshub.com/Abhaysharma53/mlops-mini-project.mlflow/#/experiments/2/runs/ef8fa09adbd14718adc831d876c3d521.\n",
      "2024/10/14 01:31:10 INFO mlflow.tracking._tracking_service.client: 🧪 View experiment at: https://dagshub.com/Abhaysharma53/mlops-mini-project.mlflow/#/experiments/2.\n",
      "2024/10/14 01:32:54 WARNING mlflow.models.model: Model logged without a signature and input example. Please set `input_example` parameter when logging the model to auto infer the model signature.\n"
     ]
    },
    {
     "name": "stdout",
     "output_type": "stream",
     "text": [
      "Algorithm: RandomForest, Feature Engineering: TF-IDF\n",
      "Accuracy: 0.763855421686747\n",
      "Precision: 0.7632898696088265\n",
      "Recall: 0.7497536945812808\n",
      "F1 Score: 0.7564612326043738\n"
     ]
    },
    {
     "name": "stderr",
     "output_type": "stream",
     "text": [
      "2024/10/14 01:33:36 INFO mlflow.tracking._tracking_service.client: 🏃 View run RandomForest with TF-IDF at: https://dagshub.com/Abhaysharma53/mlops-mini-project.mlflow/#/experiments/2/runs/46662c48b4d5468d850f3cfd2bde73d3.\n",
      "2024/10/14 01:33:36 INFO mlflow.tracking._tracking_service.client: 🧪 View experiment at: https://dagshub.com/Abhaysharma53/mlops-mini-project.mlflow/#/experiments/2.\n",
      "2024/10/14 01:34:33 WARNING mlflow.models.model: Model logged without a signature and input example. Please set `input_example` parameter when logging the model to auto infer the model signature.\n"
     ]
    },
    {
     "name": "stdout",
     "output_type": "stream",
     "text": [
      "Algorithm: GradientBoosting, Feature Engineering: BoW\n",
      "Accuracy: 0.7291566265060241\n",
      "Precision: 0.805668016194332\n",
      "Recall: 0.5881773399014778\n",
      "F1 Score: 0.6799544419134396\n"
     ]
    },
    {
     "name": "stderr",
     "output_type": "stream",
     "text": [
      "2024/10/14 01:34:48 INFO mlflow.tracking._tracking_service.client: 🏃 View run GradientBoosting with BoW at: https://dagshub.com/Abhaysharma53/mlops-mini-project.mlflow/#/experiments/2/runs/7b0ea119b6934dbab6ab172c98255fe4.\n",
      "2024/10/14 01:34:48 INFO mlflow.tracking._tracking_service.client: 🧪 View experiment at: https://dagshub.com/Abhaysharma53/mlops-mini-project.mlflow/#/experiments/2.\n",
      "2024/10/14 01:35:49 WARNING mlflow.models.model: Model logged without a signature and input example. Please set `input_example` parameter when logging the model to auto infer the model signature.\n"
     ]
    },
    {
     "name": "stdout",
     "output_type": "stream",
     "text": [
      "Algorithm: GradientBoosting, Feature Engineering: TF-IDF\n",
      "Accuracy: 0.7228915662650602\n",
      "Precision: 0.8055555555555556\n",
      "Recall: 0.5714285714285714\n",
      "F1 Score: 0.6685878962536023\n"
     ]
    },
    {
     "name": "stderr",
     "output_type": "stream",
     "text": [
      "2024/10/14 01:36:05 INFO mlflow.tracking._tracking_service.client: 🏃 View run GradientBoosting with TF-IDF at: https://dagshub.com/Abhaysharma53/mlops-mini-project.mlflow/#/experiments/2/runs/93c4341387aa40d888df23feb481d8d0.\n",
      "2024/10/14 01:36:05 INFO mlflow.tracking._tracking_service.client: 🧪 View experiment at: https://dagshub.com/Abhaysharma53/mlops-mini-project.mlflow/#/experiments/2.\n",
      "2024/10/14 01:36:06 INFO mlflow.tracking._tracking_service.client: 🏃 View run All Experiments at: https://dagshub.com/Abhaysharma53/mlops-mini-project.mlflow/#/experiments/2/runs/6efce18fadda441d8bf583b1f77cc42f.\n",
      "2024/10/14 01:36:06 INFO mlflow.tracking._tracking_service.client: 🧪 View experiment at: https://dagshub.com/Abhaysharma53/mlops-mini-project.mlflow/#/experiments/2.\n"
     ]
    }
   ],
   "source": [
    "# Start the parent run\n",
    "with mlflow.start_run(run_name=\"All Experiments\") as parent_run:\n",
    "    # Loop through algorithms and feature extraction methods (Child Runs)\n",
    "    for algo_name, algorithm in algorithms.items():\n",
    "        for vec_name, vectorizer in vectorizers.items():\n",
    "            with mlflow.start_run(run_name=f\"{algo_name} with {vec_name}\", nested=True) as child_run:\n",
    "                X = vectorizer.fit_transform(df['content'])\n",
    "                y = df['sentiment']\n",
    "                X_train, X_test, y_train, y_test = train_test_split(X, y, test_size=0.2, random_state=42)\n",
    "                \n",
    "\n",
    "                # Log preprocessing parameters\n",
    "                mlflow.log_param(\"vectorizer\", vec_name)\n",
    "                mlflow.log_param(\"algorithm\", algo_name)\n",
    "                mlflow.log_param(\"test_size\", 0.2)\n",
    "                \n",
    "                # Model training\n",
    "                model = algorithm\n",
    "                model.fit(X_train, y_train)\n",
    "                \n",
    "                # Log model parameters\n",
    "                if algo_name == 'LogisticRegression':\n",
    "                    mlflow.log_param(\"C\", model.C)\n",
    "                elif algo_name == 'MultinomialNB':\n",
    "                    mlflow.log_param(\"alpha\", model.alpha)\n",
    "                elif algo_name == 'XGBoost':\n",
    "                    mlflow.log_param(\"n_estimators\", model.n_estimators)\n",
    "                    mlflow.log_param(\"learning_rate\", model.learning_rate)\n",
    "                elif algo_name == 'RandomForest':\n",
    "                    mlflow.log_param(\"n_estimators\", model.n_estimators)\n",
    "                    mlflow.log_param(\"max_depth\", model.max_depth)\n",
    "                elif algo_name == 'GradientBoosting':\n",
    "                    mlflow.log_param(\"n_estimators\", model.n_estimators)\n",
    "                    mlflow.log_param(\"learning_rate\", model.learning_rate)\n",
    "                    mlflow.log_param(\"max_depth\", model.max_depth)\n",
    "                \n",
    "                # Model evaluation\n",
    "                y_pred = model.predict(X_test)\n",
    "                accuracy = accuracy_score(y_test, y_pred)\n",
    "                precision = precision_score(y_test, y_pred)\n",
    "                recall = recall_score(y_test, y_pred)\n",
    "                f1 = f1_score(y_test, y_pred)\n",
    "                \n",
    "                # Log evaluation metrics\n",
    "                mlflow.log_metric(\"accuracy\", accuracy)\n",
    "                mlflow.log_metric(\"precision\", precision)\n",
    "                mlflow.log_metric(\"recall\", recall)\n",
    "                mlflow.log_metric(\"f1_score\", f1)\n",
    "                \n",
    "                # Log model\n",
    "                mlflow.sklearn.log_model(model, \"model\")\n",
    "                \n",
    "                # Save and log the notebook\n",
    "                #mlflow.log_artifact(__file__)\n",
    "                # Save and log the notebook\n",
    "                import os\n",
    "                notebook_path = \"C:\\\\Users\\\\admin\\\\Desktop\\\\DSMP\\\\mlops-mini-project\\\\mlops-mini-project\\\\notebooks\\\\exp_1- Baseline_experiment.ipynb\"\n",
    "                os.system(f\"jupyter nbconvert --to notebook --execute --inplace {notebook_path}\")\n",
    "                mlflow.log_artifact(notebook_path)\n",
    "                \n",
    "                # Print the results for verification\n",
    "                print(f\"Algorithm: {algo_name}, Feature Engineering: {vec_name}\")\n",
    "                print(f\"Accuracy: {accuracy}\")\n",
    "                print(f\"Precision: {precision}\")\n",
    "                print(f\"Recall: {recall}\")\n",
    "                print(f\"F1 Score: {f1}\")"
   ]
  },
  {
   "cell_type": "code",
   "execution_count": null,
   "metadata": {},
   "outputs": [],
   "source": []
  }
 ],
 "metadata": {
  "kernelspec": {
   "display_name": "my-mlops-env",
   "language": "python",
   "name": "python3"
  },
  "language_info": {
   "codemirror_mode": {
    "name": "ipython",
    "version": 3
   },
   "file_extension": ".py",
   "mimetype": "text/x-python",
   "name": "python",
   "nbconvert_exporter": "python",
   "pygments_lexer": "ipython3",
   "version": "3.8.18"
  }
 },
 "nbformat": 4,
 "nbformat_minor": 2
}
